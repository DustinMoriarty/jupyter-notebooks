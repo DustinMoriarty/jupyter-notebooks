{
  "nbformat": 4,
  "nbformat_minor": 0,
  "metadata": {
    "colab": {
      "name": "derivative_plot.ipynb",
      "provenance": [],
      "collapsed_sections": [],
      "authorship_tag": "ABX9TyOCGsdkle7ThXVX0dbXgfCg",
      "include_colab_link": true
    },
    "kernelspec": {
      "name": "python3",
      "display_name": "Python 3"
    },
    "language_info": {
      "name": "python"
    }
  },
  "cells": [
    {
      "cell_type": "markdown",
      "metadata": {
        "id": "view-in-github",
        "colab_type": "text"
      },
      "source": [
        "<a href=\"https://colab.research.google.com/github/DustinMoriarty/jupyter-notebooks/blob/master/derivative_plot.ipynb\" target=\"_parent\"><img src=\"https://colab.research.google.com/assets/colab-badge.svg\" alt=\"Open In Colab\"/></a>"
      ]
    },
    {
      "cell_type": "markdown",
      "metadata": {
        "id": "IbSg51-n1m_z"
      },
      "source": [
        "# Derivative Plot\n",
        "Plot the derivatives of time series data from csv files. An example use case is an investigation into the velocity and acceleration behavior of a cylinder near the end of stroke. "
      ]
    },
    {
      "cell_type": "markdown",
      "metadata": {
        "id": "QyBBC9fD2FEE"
      },
      "source": [
        "## Import Libraries\n",
        "In python, we need to specify which libraries we plan to use."
      ]
    },
    {
      "cell_type": "code",
      "metadata": {
        "id": "VtBEUUVs3Oi2"
      },
      "source": [
        "import csv\n",
        "\n",
        "from collections import namedtuple\n",
        "from dataclasses import dataclass\n",
        "from pathlib import Path\n",
        "from typing import Dict\n",
        "from typing import Text\n",
        "from typing import TextIO\n",
        "from typing import Tuple\n",
        "\n",
        "import matplotlib.pyplot as plt\n",
        "import numpy as np"
      ],
      "execution_count": 1,
      "outputs": []
    },
    {
      "cell_type": "markdown",
      "metadata": {
        "id": "kMw_Ed9-2POS"
      },
      "source": [
        "## Create a Class to Store the Data\n",
        "We need a place to store the data. We will use a simple dataclass with attributes which are numpy arrays. We will also add properties for the derivatives, `d1_value` and `d2_value`. There are many ways to store and manage your data. This implementation gives us a simple container which we can control."
      ]
    },
    {
      "cell_type": "code",
      "metadata": {
        "id": "vPHrDc0M3Udn"
      },
      "source": [
        "@dataclass(frozen=True)\n",
        "class TimeSeries:\n",
        "    \"\"\"\n",
        "    Class for storing time series data. This class is immutable, which means \n",
        "    that once it is created, the data it contains cannot be changed.\n",
        "    \"\"\"\n",
        "    time: np.ndarray\n",
        "    value: np.ndarray\n",
        "    label: Text\n",
        "\n",
        "    def __post_init__(self):\n",
        "        if len(self.time) != len(self.value):\n",
        "            raise ValueError(\"All attributes must be the same length.\")\n",
        "\n",
        "    @property\n",
        "    def d1_value(self) -> np.ndarray:\n",
        "        \"\"\"\n",
        "        First derivative of value.\n",
        "        \"\"\"\n",
        "        return np.gradient(self.value, self.time, edge_order=2)\n",
        "\n",
        "    @property\n",
        "    def d2_value(self) -> np.ndarray:\n",
        "        \"\"\"\n",
        "        Second derivative of value.\n",
        "        \"\"\"\n",
        "        return np.gradient(self.d1_value, self.time, edge_order=2)"
      ],
      "execution_count": 2,
      "outputs": []
    },
    {
      "cell_type": "markdown",
      "metadata": {
        "id": "smtai0RZ2pYh"
      },
      "source": [
        "## Define Functions\n",
        "Define a function which can load data from a file into our new `TimeSeries` class."
      ]
    },
    {
      "cell_type": "code",
      "metadata": {
        "id": "4U2QHFra3d5w"
      },
      "source": [
        "def load_data(\n",
        "    f: TextIO, label: Text, time_col_name=\"time\", value_col_name=\"position\"\n",
        ") -> TimeSeries:\n",
        "    \"\"\"\n",
        "    Load data from an IO stream.\n",
        "\n",
        "    :param f: IO stream.\n",
        "    :param label: Name of the time series (e.g. position, flow, etc.) to store with\n",
        "        the new data set.\n",
        "    :param time_col_name: The name of the column header used for time.\n",
        "    :param value_col_name: Thge name of the column header used for value.\n",
        "    :return: TimeSeries\n",
        "    \"\"\"\n",
        "    reader = csv.DictReader(f)\n",
        "    time = []\n",
        "    position = []\n",
        "    for row in reader:\n",
        "        time.append(row[time_col_name])\n",
        "        position.append(row[value_col_name])\n",
        "    return TimeSeries(\n",
        "        np.array(time, dtype=float), np.array(position, dtype=float), label\n",
        "    )"
      ],
      "execution_count": 3,
      "outputs": []
    },
    {
      "cell_type": "markdown",
      "metadata": {
        "id": "Ksx6B6173isW"
      },
      "source": [
        "Define a function to plot the data."
      ]
    },
    {
      "cell_type": "code",
      "metadata": {
        "id": "jzyEI-N83pE9"
      },
      "source": [
        "def plot(\n",
        "    *time_series: TimeSeries,\n",
        "    x_axis_attr: Text = \"time\",\n",
        "    value_name: Text = \"value\",\n",
        "    value_unit: Text = \"in.\",\n",
        "    value_symbol: Text = \"y\",\n",
        "    time_unit: Text = \"s\",\n",
        ") -> plt.Figure:\n",
        "    \"\"\"\n",
        "    Plot one or more time series on the same figure.\n",
        "\n",
        "    :param time_series: Time series to plot.\n",
        "    :param x_axis_attr: The attribute to plot on the x-axis. Choices are time or value.\n",
        "        If time is selected, then three subplots are created. If value is selected,\n",
        "        then two subplots are created.\n",
        "    :param value_name: The name to use for the value on plots.\n",
        "    :param value_unit: The unit of measure for the value on plots.\n",
        "    :param value_symbol: The symbol to use for the value on plots.\n",
        "    :param time_unit: The unit of measure to use for time on plots.\n",
        "    :return: Figure\n",
        "    \"\"\"\n",
        "    # Handle our configurable x-axis.\n",
        "    LabelData = namedtuple(\"LabelData\", [\"name\", \"unit\", \"symbol\"])\n",
        "    x_axis_labels: Dict[Text, LabelData] = {\n",
        "        \"value\": LabelData(value_name, value_unit, value_symbol),\n",
        "        \"time\": LabelData(\"time\", time_unit, \"t\"),\n",
        "    }\n",
        "    if x_axis_attr not in x_axis_labels.keys():\n",
        "        raise ValueError(\n",
        "            f\"x_axis_attr {x_axis_attr} not one of {tuple(x_axis_labels.keys())}\"\n",
        "        )\n",
        "    n_plots = 2 if x_axis_attr == \"value\" else 3\n",
        "\n",
        "    # Create a figure.\n",
        "    fig, ax = plt.subplots(n_plots, sharex=True, figsize=(6,7))\n",
        "\n",
        "    # Plot the data.\n",
        "    for ts in time_series:\n",
        "        x_data = getattr(ts, x_axis_attr)\n",
        "        ax[0].plot(x_data[3:-3], ts.d2_value[3:-3], label=ts.label)\n",
        "        ax[1].plot(x_data[3:-3], ts.d1_value[3:-3], label=ts.label)\n",
        "        if n_plots == 3:\n",
        "            ax[2].plot(x_data, ts.value, label=ts.label)\n",
        "\n",
        "    # Add annotations to the plots.\n",
        "    label_data = x_axis_labels[x_axis_attr]\n",
        "    ax[0].set_ylabel(\n",
        "        f\"$\\\\frac{{d^2{value_symbol}}}{{dt^2}}$ $(\\\\frac{{{value_unit}}}{{{time_unit}^2}})$\",\n",
        "        fontsize=18\n",
        "    )\n",
        "    ax[1].set_ylabel(\n",
        "        f\"$\\\\frac{{d{value_symbol}}}{{dt}}$ $(\\\\frac{{{value_unit}}}{{{time_unit}}})$\",\n",
        "        fontsize=18\n",
        "    )\n",
        "    if n_plots == 3:\n",
        "        ax[2].set_ylabel(\n",
        "            f\"${value_symbol}$ $({value_unit})$\"\n",
        "        )\n",
        "    ax[-1].set_xlabel(\n",
        "        f\"${label_data.symbol}$ $({label_data.unit})$\", \n",
        "        fontsize=18\n",
        "    )\n",
        "    ax[-1].legend()\n",
        "    fig.suptitle(f\"Derivatives of {value_name.title()} vs. {label_data.name.title()}\")\n",
        "    return fig"
      ],
      "execution_count": 4,
      "outputs": []
    },
    {
      "cell_type": "code",
      "metadata": {
        "id": "IVXRJQx2b5aI"
      },
      "source": [
        ""
      ],
      "execution_count": 4,
      "outputs": []
    },
    {
      "cell_type": "markdown",
      "metadata": {
        "id": "faqgblAH3up4"
      },
      "source": [
        "## Put It All Together\n",
        "\n",
        "Define a function which can plot one or more files."
      ]
    },
    {
      "cell_type": "code",
      "metadata": {
        "id": "z-AQzvbewejm"
      },
      "source": [
        "def plot_files(\n",
        "    *file: Tuple[Text],\n",
        "    time_col_name: Text = \"time\",\n",
        "    value_col_name: Text = \"value\",\n",
        "    x_axis_attr: Text = \"time\",\n",
        "    value_name: Text = \"value\",\n",
        "    value_symbol: Text = \"y\",\n",
        "    value_unit: Text = \"in.\",\n",
        "    time_unit: Text = \"s\",\n",
        "):\n",
        "    \"\"\"\n",
        "    Plot files.\n",
        "    \"\"\"\n",
        "    data = []\n",
        "    for this_file in file:\n",
        "        this_file_path = Path(this_file)\n",
        "        with this_file_path.open() as f:\n",
        "            time_series: TimeSeries = load_data(\n",
        "                f,\n",
        "                label=this_file_path.stem,\n",
        "                time_col_name=time_col_name,\n",
        "                value_col_name=value_col_name,\n",
        "            )\n",
        "            data.append(time_series)\n",
        "    fig = plot(\n",
        "        *data,\n",
        "        x_axis_attr=x_axis_attr,\n",
        "        value_name=value_name,\n",
        "        value_unit=value_unit,\n",
        "        value_symbol=value_symbol,\n",
        "        time_unit=time_unit\n",
        "    )\n",
        "    fig.show()"
      ],
      "execution_count": 5,
      "outputs": []
    },
    {
      "cell_type": "markdown",
      "metadata": {
        "id": "AU8pkYXk1b0s"
      },
      "source": [
        "# Generate Example Data Files.\n",
        "Make a couple files so that we can show how a file can be loaded. These files will show an example of a typical cushioned cylinder stroke with an acceleration and deceleration phase. The example data mimicks a typical actuator cycle with an acceleration, constant velocity and deceleration component."
      ]
    },
    {
      "cell_type": "code",
      "metadata": {
        "id": "o55mbOVPypbE"
      },
      "source": [
        "def integrate(y, dt):\n",
        "    return np.array([np.trapz(y[0:n], dx=dt) for n in range(len(y))])\n",
        "\n",
        "def create_example_data():\n",
        "    np.random.seed(1234)\n",
        "    dt = 0.02\n",
        "    size = 500\n",
        "     # Start with the second derivative discontinuous funciton and integrate \n",
        "     # back to x to get a continuous function.\n",
        "     # Add some random numbers in order to make the data more like \n",
        "     # real world data.\n",
        "    d2x = np.array(\n",
        "            [0]*10\n",
        "            + [1] * int(size / 3) \n",
        "            + [0] * int(size / 3) \n",
        "            + [-1] * int(size / 3)\n",
        "            +[0]*10\n",
        "            )\n",
        "    d2x =  d2x + np.array([np.random.random()*1e-12 for x in range(d2x.size)])\n",
        "    t = np.arange(0, len(d2x)) * dt + np.array([np.random.random()*1e-12 for x in range(d2x.size)])\n",
        "    d1x = integrate(d2x, dt)\n",
        "    x = integrate(d1x, dt)\n",
        "    np.savetxt(\n",
        "        \"test_data_0.csv\",\n",
        "        np.array([t, x]).transpose(),\n",
        "        fmt=\"%0.16f\",\n",
        "        header=\"Time,Position\",\n",
        "        delimiter=\",\",\n",
        "        comments=\"\",\n",
        "    )\n",
        "    dt = 0.02\n",
        "    size = 400\n",
        "    d2x = np.array(\n",
        "        [0]*10\n",
        "        + [1.8] * int(size / 4) \n",
        "        + [0] * int(size / 2) \n",
        "        + [-1.8] * int(size / 4)\n",
        "        + [0]*10\n",
        "        )\n",
        "    t = np.arange(0, len(d2x)) * dt\n",
        "    d1x = integrate(d2x, dt) + 0.1\n",
        "    x = integrate(d1x, dt)\n",
        "    np.savetxt(\n",
        "        \"test_data_1.csv\",\n",
        "        np.array([t, x]).transpose(),\n",
        "        fmt=\"%0.16f\",\n",
        "        header=\"Time,Position\",\n",
        "        delimiter=\",\",\n",
        "        comments=\"\",\n",
        "    )\n",
        "\n",
        "create_example_data()"
      ],
      "execution_count": 6,
      "outputs": []
    },
    {
      "cell_type": "markdown",
      "metadata": {
        "id": "HV5t_iTV4Ugl"
      },
      "source": [
        "## Plot the Example Data\n",
        "\n",
        "We can plot the example files. Here we see the derivative values compared to time. This is the typical way we are familiar with seeing derivatives plotted from a calculus class."
      ]
    },
    {
      "cell_type": "code",
      "metadata": {
        "id": "hjitW5IfwfUA",
        "colab": {
          "base_uri": "https://localhost:8080/",
          "height": 503
        },
        "outputId": "e2cd49fe-6a20-42d3-99c3-34486bc95de8"
      },
      "source": [
        "plot_files(\"test_data_0.csv\", \"test_data_1.csv\", time_col_name=\"Time\", value_col_name=\"Position\", x_axis_attr=\"time\", value_name=\"position\", value_unit=\"in.\")"
      ],
      "execution_count": 7,
      "outputs": [
        {
          "output_type": "display_data",
          "data": {
            "image/png": "[encoded data removed]",
            "text/plain": [
              "<Figure size 432x504 with 3 Axes>"
            ]
          },
          "metadata": {
            "needs_background": "light"
          }
        }
      ]
    },
    {
      "cell_type": "markdown",
      "metadata": {
        "id": "h8vsdMnacyQj"
      },
      "source": [
        "Plot the data with the position on the x axis instead of time. This may be more useful if we are more concerned about the location in a cycle where acceleration or deceleration occurs. For this plot, only two subplots are generated because there is not need to plot position versus position."
      ]
    },
    {
      "cell_type": "code",
      "metadata": {
        "colab": {
          "base_uri": "https://localhost:8080/",
          "height": 505
        },
        "id": "1XJbtNYK1Km8",
        "outputId": "abb57783-dbf2-4ec2-d87f-554af5dd396f"
      },
      "source": [
        "plot_files(\"test_data_0.csv\", \"test_data_1.csv\", time_col_name=\"Time\", value_col_name=\"Position\", x_axis_attr=\"value\", value_name=\"position\", value_unit=\"in.\")"
      ],
      "execution_count": 8,
      "outputs": [
        {
          "output_type": "display_data",
          "data": {
            "image/png": "[encoded data removed]",
            "text/plain": [
              "<Figure size 432x504 with 2 Axes>"
            ]
          },
          "metadata": {
            "needs_background": "light"
          }
        }
      ]
    },
    {
      "cell_type": "code",
      "metadata": {
        "id": "uj8p1-QAb6OO"
      },
      "source": [
        ""
      ],
      "execution_count": 8,
      "outputs": []
    }
  ]
}